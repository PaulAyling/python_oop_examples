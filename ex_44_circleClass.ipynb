{
 "cells": [
  {
   "cell_type": "markdown",
   "source": [
    "Exercise 44. Circle class || Solution\n",
    "\n",
    "1 - Define a Circle class allowing to create a circleC (O, r) with center O(a, b) and radius r using the constructor: \n",
    "    def __init__(self,a,b,r):         \n",
    "        self.a = a         \n",
    "        self.b = b         \n",
    "        self.r = r\n",
    "2 - Define a Area() method of the class which calculates the area of ​​the circle.\n",
    "3 - Define a Perimeter() method of the class which allows you to calculate the perimeter of the circle.\n",
    "4 - Define a testBelongs() method of the class which allows to test whether a point A(x, y) belongs to the circle C(O, r) or not. \n"
   ],
   "metadata": {}
  },
  {
   "cell_type": "code",
   "execution_count": 13,
   "source": [
    "# Import math Library\n",
    "import math\n",
    "class Circle:\n",
    "    def __init__(self,center,radius):\n",
    "        self.center = center\n",
    "        self.radius = radius\n",
    "\n",
    "    def area(self):\n",
    "        return math.pi * self.radius ** 2\n",
    "\n",
    "    def perimeter(self):\n",
    "        return 2 * math.pi * self.radius\n",
    "\n",
    "    def coordInCircle(self,test_coord):\n",
    "        adjacent_length = self.center[0] - test_coord[0]\n",
    "        opp_length = self.center[1] - test_coord[1]\n",
    "        hyp_squared = adjacent_length ** 2 + opp_length **2\n",
    "        hyp = math.sqrt(hyp_squared)\n",
    "        if hyp <= self.radius:\n",
    "            return True\n",
    "        else:\n",
    "            return False\n",
    "    def printStats(self):\n",
    "        print('center:',self.center, 'Radius',self.radius)\n",
    "\n",
    "myCircle = Circle((10,10),3)\n",
    "myCircle.printStats()\n",
    "print(myCircle.area())\n",
    "print(myCircle.perimeter())\n",
    "\n",
    "print(myCircle.coordInCircle((12,11)))\n",
    "\n"
   ],
   "outputs": [
    {
     "output_type": "stream",
     "name": "stdout",
     "text": [
      "center: (10, 10) Radius 3\n",
      "28.274333882308138\n",
      "18.84955592153876\n",
      "True\n"
     ]
    }
   ],
   "metadata": {}
  },
  {
   "cell_type": "code",
   "execution_count": null,
   "source": [],
   "outputs": [],
   "metadata": {}
  },
  {
   "cell_type": "code",
   "execution_count": null,
   "source": [],
   "outputs": [],
   "metadata": {}
  },
  {
   "cell_type": "code",
   "execution_count": null,
   "source": [],
   "outputs": [],
   "metadata": {}
  }
 ],
 "metadata": {
  "orig_nbformat": 4,
  "language_info": {
   "name": "python",
   "version": "3.9.6",
   "mimetype": "text/x-python",
   "codemirror_mode": {
    "name": "ipython",
    "version": 3
   },
   "pygments_lexer": "ipython3",
   "nbconvert_exporter": "python",
   "file_extension": ".py"
  },
  "kernelspec": {
   "name": "python3",
   "display_name": "Python 3.9.6 64-bit"
  },
  "interpreter": {
   "hash": "aee8b7b246df8f9039afb4144a1f6fd8d2ca17a180786b69acc140d282b71a49"
  }
 },
 "nbformat": 4,
 "nbformat_minor": 2
}