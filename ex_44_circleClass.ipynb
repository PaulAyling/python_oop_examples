{
 "cells": [
  {
   "cell_type": "markdown",
   "source": [
    "Exercise 44. Circle class || Solution\n",
    "\n",
    "1 - Define a Circle class allowing to create a circleC (O, r) with center O(a, b) and radius r using the constructor: \n",
    "    def __init__(self,a,b,r):         \n",
    "        self.a = a         \n",
    "        self.b = b         \n",
    "        self.r = r\n",
    "2 - Define a Area() method of the class which calculates the area of ​​the circle.\n",
    "3 - Define a Perimeter() method of the class which allows you to calculate the perimeter of the circle.\n",
    "4 - Define a testBelongs() method of the class which allows to test whether a point A(x, y) belongs to the circle C(O, r) or not. \n"
   ],
   "metadata": {}
  },
  {
   "cell_type": "code",
   "execution_count": 2,
   "source": [
    "print('hi')\n",
    "\n"
   ],
   "outputs": [
    {
     "output_type": "stream",
     "name": "stdout",
     "text": [
      "hi\n"
     ]
    }
   ],
   "metadata": {}
  },
  {
   "cell_type": "code",
   "execution_count": null,
   "source": [],
   "outputs": [],
   "metadata": {}
  }
 ],
 "metadata": {
  "orig_nbformat": 4,
  "language_info": {
   "name": "python",
   "version": "3.9.6",
   "mimetype": "text/x-python",
   "codemirror_mode": {
    "name": "ipython",
    "version": 3
   },
   "pygments_lexer": "ipython3",
   "nbconvert_exporter": "python",
   "file_extension": ".py"
  },
  "kernelspec": {
   "name": "python3",
   "display_name": "Python 3.9.6 64-bit"
  },
  "interpreter": {
   "hash": "aee8b7b246df8f9039afb4144a1f6fd8d2ca17a180786b69acc140d282b71a49"
  }
 },
 "nbformat": 4,
 "nbformat_minor": 2
}