{
 "cells": [
  {
   "cell_type": "markdown",
   "source": [
    "Exercise 45. Computation class || Solution\n",
    "\n",
    "1 - Create a Coputation class with a default constructor (without parameters) allowing to perform various calculations on integers numbers.\n",
    "2 - Create a method called Factorial() which allows to calculate the factorial of an integer. Test the method by instantiating the class.\n",
    "3 - Create a method called Sum() allowing to calculate the sum of the first n integers 1 + 2 + 3 + .. + n. Test this method.\n",
    "4 - Create a method called testPrim() in  the Calculation class to test the primality of a given integer. Test this method.\n",
    "4 - Create  a method called testPrims() allowing to test if two numbers are prime between them.\n",
    "5 - Create a tableMult() method which creates and displays the multiplication table of a given integer. Then create an allTablesMult() method to display all the integer multiplication tables 1, 2, 3, ..., 9.\n",
    "6 - Create a static listDiv() method that gets all the divisors of a given integer on new list called  Ldiv. Create another listDivPrim() method that gets all the prime divisors of a given integer."
   ],
   "metadata": {}
  },
  {
   "cell_type": "markdown",
   "source": [
    "# QUIZZES FROM THE FOLLOWING URL\n",
    "# https://www.my-courses.net/2020/02/exercises-with-solutions-on-oop-object.html"
   ],
   "metadata": {}
  },
  {
   "cell_type": "code",
   "execution_count": null,
   "source": [
    "class Computation:\n",
    "    def __init__(self):\n",
    "        pass\n",
    "\n",
    "    def factorial(n):\n",
    "        if n == 1:\n",
    "            return n\n",
    "        else:\n",
    "            return n * factorial(n-1)\n",
    "\n",
    "    def sum(n):\n",
    "        result = 0\n",
    "        for n in range(n):\n",
    "            result += n\n",
    "        return result\n",
    "\n",
    "    def testPrim(n):\n",
    "        j = 0\n",
    "        for i in range (1, n + 1):\n",
    "            if (n% i == 0):\n",
    "                j = j + 1\n",
    "        if (j == 2):\n",
    "            return True\n",
    "        else:\n",
    "            return False\n",
    "\n",
    "    def testPrims(n):\n",
    "        return 'tbc'\n",
    "\n",
    "    def tableMult(n):\n",
    "        return 'tbc'\n",
    "\n",
    "    def listDiv(n):\n",
    "        return 'tbc'"
   ],
   "outputs": [],
   "metadata": {}
  }
 ],
 "metadata": {
  "orig_nbformat": 4,
  "language_info": {
   "name": "python",
   "version": "3.9.6",
   "mimetype": "text/x-python",
   "codemirror_mode": {
    "name": "ipython",
    "version": 3
   },
   "pygments_lexer": "ipython3",
   "nbconvert_exporter": "python",
   "file_extension": ".py"
  },
  "kernelspec": {
   "name": "python3",
   "display_name": "Python 3.9.6 64-bit"
  },
  "interpreter": {
   "hash": "aee8b7b246df8f9039afb4144a1f6fd8d2ca17a180786b69acc140d282b71a49"
  }
 },
 "nbformat": 4,
 "nbformat_minor": 2
}