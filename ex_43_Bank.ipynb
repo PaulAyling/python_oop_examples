{
 "cells": [
  {
   "cell_type": "markdown",
   "source": [
    "# QUIZZES FROM THE FOLLOWING URL\n",
    "# https://www.my-courses.net/2020/02/exercises-with-solutions-on-oop-object.html"
   ],
   "metadata": {}
  },
  {
   "cell_type": "markdown",
   "source": [
    "Exercise 43. Bank Account class: ||  Solution\n",
    "\n",
    "Create a Python class called BankAccount which represents a bank account, having as attributes: accountNumber (numeric type), name (name of the account owner as string type), balance.\n",
    "Create a constructor with parameters: accountNumber, name, balance.\n",
    "Create a Deposit() method which manages the deposit actions.\n",
    "Create a Withdrawal() method  which manages withdrawals actions.\n",
    "Create an bankFees() method to apply the bank fees with a percentage of 5% of the balance account.\n",
    "Create a display() method to display account details.\n",
    "Give the complete code for the  BankAccount class.\n"
   ],
   "metadata": {}
  },
  {
   "cell_type": "code",
   "execution_count": 7,
   "source": [
    "class BankAccount:\n",
    "    def __init__ (self,accountNumber, name, balance):\n",
    "        self.accountNumber = accountNumber\n",
    "        self.name = name\n",
    "        self.balance = balance\n",
    "        \n",
    "    def deposit(self, deposit_amount):\n",
    "        # subract the \n",
    "        self.balance += deposit_amount\n",
    "\n",
    "    def withdraw(self, withdrawl_amount):\n",
    "        # subract the \n",
    "        self.balance -= withdrawl_amount\n",
    "\n",
    "    def bankFees(self):\n",
    "        return 0.95 * self.balance\n",
    "\n",
    "    def display(self):\n",
    "        print('name:',self.name )\n",
    "        print('acc #:',self.accountNumber )\n",
    "        print('balance:',self.balance )\n",
    "\n",
    "# instatie BankAccount\n",
    "paulsBankDetails = BankAccount(5436,'Paul Ayling', 678)\n",
    "paulsBankDetails.display()\n",
    "paulsBankDetails.withdraw(600)\n",
    "paulsBankDetails.display()\n",
    "paulsBankDetails.deposit(200)\n",
    "paulsBankDetails.display()\n",
    "\n"
   ],
   "outputs": [
    {
     "output_type": "stream",
     "name": "stdout",
     "text": [
      "name: Paul Ayling\n",
      "acc #: 5436\n",
      "balance: 678\n",
      "name: Paul Ayling\n",
      "acc #: 5436\n",
      "balance: 78\n",
      "name: Paul Ayling\n",
      "acc #: 5436\n",
      "balance: 278\n"
     ]
    }
   ],
   "metadata": {}
  },
  {
   "cell_type": "code",
   "execution_count": null,
   "source": [],
   "outputs": [],
   "metadata": {}
  }
 ],
 "metadata": {
  "orig_nbformat": 4,
  "language_info": {
   "name": "python",
   "version": "3.9.6",
   "mimetype": "text/x-python",
   "codemirror_mode": {
    "name": "ipython",
    "version": 3
   },
   "pygments_lexer": "ipython3",
   "nbconvert_exporter": "python",
   "file_extension": ".py"
  },
  "kernelspec": {
   "name": "python3",
   "display_name": "Python 3.9.6 64-bit"
  },
  "interpreter": {
   "hash": "aee8b7b246df8f9039afb4144a1f6fd8d2ca17a180786b69acc140d282b71a49"
  }
 },
 "nbformat": 4,
 "nbformat_minor": 2
}