{
 "cells": [
  {
   "cell_type": "code",
   "execution_count": null,
   "source": [
    "# QUIZZES FROM THE FOLLOWING URL\n",
    "# https://www.my-courses.net/2020/02/exercises-with-solutions-on-oop-object.html"
   ],
   "outputs": [],
   "metadata": {}
  },
  {
   "cell_type": "markdown",
   "source": [
    "Exercice 42: Person class and child Student class ||  Solution\n",
    "\n",
    "Create a Python class Person with attributes: name and age of type string.\n",
    "Create a display() method that displays the name and age of an object created via the Person class.\n",
    "Create a child class Student  which inherits from the Person class and which also has a section attribute.\n",
    "\n",
    "Create a method displayStudent() that displays the name, age and section of an object created via the Student class.\n",
    "Create a student object via an instantiation on the Student class and then test the displayStudent method."
   ],
   "metadata": {}
  },
  {
   "cell_type": "code",
   "execution_count": 6,
   "source": [
    "class Person:\n",
    "    def __init__(self,name,age):\n",
    "        self.name = name\n",
    "        self.age = age\n",
    "\n",
    "    def display(self):\n",
    "        print(self.name,self.age)\n",
    "    \n",
    "\n",
    "class Student(Person):\n",
    "    def __init__(self,name,age,section):\n",
    "        Person.__init__(self,name,age)\n",
    "        self.section = section\n",
    "    \n",
    "    def displayStudent(self):\n",
    "        print(self.name,self.age,self.section)\n",
    "\n",
    "aPerson = Person('Jane','33')        \n",
    "aPerson.display()\n",
    "\n",
    "aStudent = Student('bob','23','Economics')\n",
    "aStudent.displayStudent()\n",
    "print('hi')\n"
   ],
   "outputs": [
    {
     "output_type": "stream",
     "name": "stdout",
     "text": [
      "Jane 33\n",
      "bob 23 Economics\n",
      "hi\n"
     ]
    }
   ],
   "metadata": {}
  },
  {
   "cell_type": "code",
   "execution_count": null,
   "source": [],
   "outputs": [],
   "metadata": {}
  }
 ],
 "metadata": {
  "orig_nbformat": 4,
  "language_info": {
   "name": "python",
   "version": "3.9.6",
   "mimetype": "text/x-python",
   "codemirror_mode": {
    "name": "ipython",
    "version": 3
   },
   "pygments_lexer": "ipython3",
   "nbconvert_exporter": "python",
   "file_extension": ".py"
  },
  "kernelspec": {
   "name": "python3",
   "display_name": "Python 3.9.6 64-bit"
  },
  "interpreter": {
   "hash": "aee8b7b246df8f9039afb4144a1f6fd8d2ca17a180786b69acc140d282b71a49"
  }
 },
 "nbformat": 4,
 "nbformat_minor": 2
}